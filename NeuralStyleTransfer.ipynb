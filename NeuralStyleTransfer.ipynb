{
 "cells": [
  {
   "cell_type": "code",
   "execution_count": null,
   "source": [
    "import os\r\n",
    "import sys\r\n",
    "import scipy.io\r\n",
    "import imageio\r\n",
    "import matplotlib.pyplot as plt\r\n",
    "from matplotlib.pyplot import imshow\r\n",
    "from PIL import Image\r\n",
    "from nst_utils import *\r\n",
    "import numpy as np\r\n",
    "import tensorflow.compat.v1 as tf\r\n",
    "import pprint\r\n",
    "%matplotlib inline"
   ],
   "outputs": [],
   "metadata": {}
  },
  {
   "cell_type": "code",
   "execution_count": null,
   "source": [
    "# Disable tensorflow v2 and reset default graph\r\n",
    "tf.disable_v2_behavior()\r\n",
    "tf.reset_default_graph()"
   ],
   "outputs": [],
   "metadata": {}
  },
  {
   "cell_type": "code",
   "execution_count": null,
   "source": [
    "pp = pprint.PrettyPrinter(indent=4)\r\n",
    "model = load_vgg_model(\"model_data/imagenet-vgg-verydeep-19.mat\")\r\n",
    "pp.pprint(model)"
   ],
   "outputs": [],
   "metadata": {}
  },
  {
   "cell_type": "code",
   "execution_count": null,
   "source": [
    "content_image = imageio.imread(\"images/louvre.jpg\")\r\n",
    "imshow(content_image)"
   ],
   "outputs": [],
   "metadata": {}
  },
  {
   "cell_type": "code",
   "execution_count": null,
   "source": [
    "def compute_content_cost(a_C, a_G):\r\n",
    "    \"\"\"\r\n",
    "    a_C -- tensor of dimension (1, n_H, n_W, n_C), hidden layer activations representing content of the image C\r\n",
    "    a_G -- tensor of dimension (1, n_H, n_W, n_C), hidden layer activations representing content of the image G\r\n",
    "    \"\"\"\r\n",
    "    m, n_H, n_W, n_C = a_G.get_shape().as_list()\r\n",
    "    a_C_unrolled = tf.reshape(a_C, shape=[m, -1, n_C])\r\n",
    "    a_G_unrolled = tf.reshape(a_G, shape=[m, -1, n_C])\r\n",
    "    J_content = 1 / (4 * n_H * n_W * n_C) * tf.reduce_sum(tf.square(tf.subtract(a_C_unrolled, a_G_unrolled)))\r\n",
    "    return J_content"
   ],
   "outputs": [],
   "metadata": {}
  },
  {
   "cell_type": "code",
   "execution_count": null,
   "source": [
    "style_image = imageio.imread(\"images/monet_800600.jpg\")\r\n",
    "imshow(style_image)"
   ],
   "outputs": [],
   "metadata": {}
  },
  {
   "cell_type": "code",
   "execution_count": null,
   "source": [
    "def gram_matrix(A):\r\n",
    "    GA = tf.matmul(A, tf.transpose(A))\r\n",
    "    return GA"
   ],
   "outputs": [],
   "metadata": {}
  },
  {
   "cell_type": "code",
   "execution_count": null,
   "source": [
    "def compute_layer_style_cost(a_S, a_G):\r\n",
    "    m, n_H, n_W, n_C = a_G.get_shape().as_list()\r\n",
    "    a_S = tf.transpose(tf.reshape(a_S, shape=[-1, n_C]), perm=[1, 0])\r\n",
    "    a_G = tf.transpose(tf.reshape(a_G, shape=[-1, n_C]), perm=[1, 0])\r\n",
    "    GS = gram_matrix(a_S)\r\n",
    "    GG = gram_matrix(a_G)\r\n",
    "    J_style_layer = 1 / (4 * n_C**2 * (n_H * n_W)**2) * tf.reduce_sum(tf.square(tf.subtract(GS, GG)))\r\n",
    "    return J_style_layer"
   ],
   "outputs": [],
   "metadata": {}
  },
  {
   "cell_type": "code",
   "execution_count": null,
   "source": [
    "STYLE_LAYERS = [\r\n",
    "    ('conv1_1', 0.2),\r\n",
    "    ('conv2_1', 0.2),\r\n",
    "    ('conv3_1', 0.2),\r\n",
    "    ('conv4_1', 0.2),\r\n",
    "    ('conv5_1', 0.2)\r\n",
    "]"
   ],
   "outputs": [],
   "metadata": {}
  },
  {
   "cell_type": "code",
   "execution_count": null,
   "source": [
    "def compute_style_cost(model, STYLE_LAYERS):\r\n",
    "    J_style = 0\r\n",
    "    for layer_name, coeff in STYLE_LAYERS:\r\n",
    "        out = model[layer_name]\r\n",
    "        # Set a_S to be the hidden layer activation from they layer we have selected, by running the session on out\r\n",
    "        a_S = sess.run(out)\r\n",
    "        # Set a_G to be the hidden layer activation from the same layer. Here, a_G references model[layer_name]\r\n",
    "        # and isn't evaluated yet. Latter in the code, we'll assign the image G as the model input, so that\r\n",
    "        # when we run the session, this will be the activations drawn from the approprivate layer, with G as input. \r\n",
    "        a_G = out\r\n",
    "        J_style_layer = compute_layer_style_cost(a_S, a_G)\r\n",
    "        J_style += coeff * J_style_layer\r\n",
    "    return J_style"
   ],
   "outputs": [],
   "metadata": {}
  },
  {
   "cell_type": "code",
   "execution_count": null,
   "source": [
    "def total_cost(J_content, J_style, alpha=10, beta=40):\r\n",
    "    J = alpha * J_content + beta * J_style\r\n",
    "    return J"
   ],
   "outputs": [],
   "metadata": {}
  },
  {
   "cell_type": "code",
   "execution_count": null,
   "source": [
    "tf.reset_default_graph()\r\n",
    "sess = tf.InteractiveSession()"
   ],
   "outputs": [],
   "metadata": {}
  },
  {
   "cell_type": "code",
   "execution_count": null,
   "source": [
    "content_image = imageio.imread(\"images/louvre_small.jpg\")\r\n",
    "content_image = reshape_and_normalize_image(content_image)"
   ],
   "outputs": [],
   "metadata": {}
  },
  {
   "cell_type": "code",
   "execution_count": null,
   "source": [
    "style_image = imageio.imread(\"images/monet.jpg\")\r\n",
    "style_image = reshape_and_normalize_image(style_image)"
   ],
   "outputs": [],
   "metadata": {}
  },
  {
   "cell_type": "code",
   "execution_count": null,
   "source": [
    "generated_image = generate_noise_image(content_image)\r\n",
    "imshow(generated_image[0])"
   ],
   "outputs": [],
   "metadata": {}
  },
  {
   "cell_type": "code",
   "execution_count": null,
   "source": [
    "model = load_vgg_model(\"model_data/imagenet-vgg-verydeep-19.mat\")"
   ],
   "outputs": [],
   "metadata": {}
  },
  {
   "cell_type": "code",
   "execution_count": null,
   "source": [
    "# Assign the content image to be the input of the VGG model\r\n",
    "sess.run(model['input'].assign(content_image))\r\n",
    "# select the output tensor of layer conv4_2\r\n",
    "out = model['conv4_2']\r\n",
    "# Set a_C to be the hidden layer activation from the layer we have selected\r\n",
    "a_C = sess.run(out)\r\n",
    "# Set a_G to be the hidden layer activation from same layer. Here, a_G references model['conv4_2'] \r\n",
    "# and isn't evaluated yet. Later in the code, we'll assign the image G as the model input, so that\r\n",
    "# when we run the session, this will be the activations drawn from the appropriate layer, with G as input.\r\n",
    "a_G = out\r\n",
    "J_content = compute_content_cost(a_C, a_G)"
   ],
   "outputs": [],
   "metadata": {}
  },
  {
   "cell_type": "code",
   "execution_count": null,
   "source": [
    "sess.run(model['input'].assign(style_image))\r\n",
    "J_style = compute_style_cost(model, STYLE_LAYERS)"
   ],
   "outputs": [],
   "metadata": {}
  },
  {
   "cell_type": "code",
   "execution_count": null,
   "source": [
    "J = total_cost(J_content, J_style, alpha=10, beta=40)"
   ],
   "outputs": [],
   "metadata": {}
  },
  {
   "cell_type": "code",
   "execution_count": null,
   "source": [
    "optimizer = tf.train.AdamOptimizer(2.0)\r\n",
    "train_step = optimizer.minimize(J)"
   ],
   "outputs": [],
   "metadata": {}
  },
  {
   "cell_type": "code",
   "execution_count": null,
   "source": [
    "def model_nn(sess, input_image, num_interations=200):\r\n",
    "    sess.run(tf.global_variables_initializer())\r\n",
    "    # Run the noisy input image (initial generated image) through the model. Use assign()\r\n",
    "    sess.run(model[\"input\"].assign(input_image))\r\n",
    "\r\n",
    "    for i in range(num_interations):\r\n",
    "        # Run the session on the train_step to minimize total cost\r\n",
    "        sess.run(train_step)\r\n",
    "        # Compute the generated image by rinning the session on the current model['input']\r\n",
    "        generated_image = sess.run(model['input'])\r\n",
    "        \r\n",
    "        if i%20 == 0:\r\n",
    "            Jt, Jc, Js = sess.run([J, J_content, J_style])\r\n",
    "            print(\"Iteration \" + str(i) + \" :\")\r\n",
    "            print(\"total cost = \" + str(Jt))\r\n",
    "            print(\"content cost = \" + str(Jc))\r\n",
    "            print(\"style cost = \" + str(Js))\r\n",
    "    \r\n",
    "    save_image('images/generated_image.jpg', generated_image)\r\n",
    "    return generated_image"
   ],
   "outputs": [],
   "metadata": {}
  },
  {
   "cell_type": "code",
   "execution_count": null,
   "source": [
    "model_nn(sess, generated_image)"
   ],
   "outputs": [],
   "metadata": {}
  },
  {
   "cell_type": "code",
   "execution_count": null,
   "source": [],
   "outputs": [],
   "metadata": {}
  }
 ],
 "metadata": {
  "orig_nbformat": 4,
  "language_info": {
   "name": "python",
   "version": "3.7.11",
   "mimetype": "text/x-python",
   "codemirror_mode": {
    "name": "ipython",
    "version": 3
   },
   "pygments_lexer": "ipython3",
   "nbconvert_exporter": "python",
   "file_extension": ".py"
  },
  "kernelspec": {
   "name": "python3",
   "display_name": "Python 3.7.11 64-bit ('tf': conda)"
  },
  "interpreter": {
   "hash": "5cd4e46eb321c110e78a67889a4e5233ca41376e0420f700ff9726dd105f28fe"
  }
 },
 "nbformat": 4,
 "nbformat_minor": 2
}