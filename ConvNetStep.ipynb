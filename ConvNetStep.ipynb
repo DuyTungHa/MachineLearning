{
 "cells": [
  {
   "cell_type": "code",
   "execution_count": 2,
   "source": [
    "import numpy as np\r\n",
    "import h5py\r\n",
    "import matplotlib.pyplot as plt\r\n",
    "\r\n",
    "%matplotlib inline \r\n",
    "plt.rcParams['figure.figsize'] = (5.0, 4.0)\r\n",
    "plt.rcParams['image.interpolation'] = 'nearest'\r\n",
    "plt.rcParams['image.cmap'] = 'gray'\r\n",
    "\r\n",
    "%load_ext autoreload\r\n",
    "%autoreload 2\r\n",
    "\r\n",
    "np.random.seed(1)"
   ],
   "outputs": [
    {
     "output_type": "stream",
     "name": "stderr",
     "text": [
      "UsageError: unrecognized arguments: \n"
     ]
    }
   ],
   "metadata": {}
  },
  {
   "cell_type": "code",
   "execution_count": 3,
   "source": [
    "def zero_pad(X, pad):\r\n",
    "    \"\"\"\r\n",
    "    X -- python numpy array of shape (m, n_H, n_W, n_C) representing a batch of m images\r\n",
    "    \"\"\"\r\n",
    "    X_pad = np.pad(X, ((0, 0), (pad, pad), (pad, pad), (0, 0)), mode='constant', constant_values=(0, 0))\r\n",
    "    return X_pad"
   ],
   "outputs": [],
   "metadata": {}
  },
  {
   "cell_type": "code",
   "execution_count": 4,
   "source": [
    "def conv_single_step(a_slice_prev, W, b):\r\n",
    "    s = a_slice_prev * W\r\n",
    "    Z = np.sum(s)\r\n",
    "    Z = Z + float(b)\r\n",
    "    return Z"
   ],
   "outputs": [],
   "metadata": {}
  },
  {
   "cell_type": "code",
   "execution_count": 5,
   "source": [
    "def conv_forward(A_prev, W, b, hparameters):\r\n",
    "    (m, n_H_prev, n_W_prev, n_C_prev) = A_prev.shape\r\n",
    "    (f, f, n_C_prev, n_C) = W.shape\r\n",
    "    stride = hparameters[\"stride\"]\r\n",
    "    pad = hparameters[\"pad\"]\r\n",
    "    n_H = int(np.floor((n_H_prev - f + 2 * pad) / stride)) + 1\r\n",
    "    n_W = int(np.floor((n_W_prev - f + 2 * pad) / stride)) + 1\r\n",
    "    Z = np.zeros((m, n_H, n_W, n_C))\r\n",
    "    A_prev_pad = zero_pad(A_prev, pad)\r\n",
    "\r\n",
    "    for i in range(m):\r\n",
    "        a_prev_pad = A_prev_pad[i,:,:,:]\r\n",
    "        for h in range(n_H):\r\n",
    "            vert_start = h * stride\r\n",
    "            vert_end = h * stride + f\r\n",
    "            for w in range(n_W):\r\n",
    "                horiz_start = w * stride\r\n",
    "                horiz_end = w * stride + f\r\n",
    "                for c in range(n_C):\r\n",
    "                    a_slice_prev = a_prev_pad[vert_start:vert_end, horiz_start:horiz_end, :]\r\n",
    "                    weights = W[:,:,:,c]\r\n",
    "                    biases = b[:,:,:,c]\r\n",
    "                    Z[i, h, w, c] = conv_single_step(a_slice_prev, weights, biases)\r\n",
    "    cache = (A_prev, W, b, hparameters)\r\n",
    "    return Z, cache"
   ],
   "outputs": [],
   "metadata": {}
  },
  {
   "cell_type": "code",
   "execution_count": 6,
   "source": [
    "def pool_forward(A_prev, hparameters, mode = \"max\"):\r\n",
    "    (m, n_H_prev, n_W_prev, n_C_prev) = A_prev.shape\r\n",
    "    f = hparameters[\"f\"]\r\n",
    "    stride = hparameters[\"stride\"]\r\n",
    "    n_H = int(1 + (n_H_prev - f) / stride)\r\n",
    "    n_W = int(1 + (n_W_prev - f) / stride)\r\n",
    "    n_C = n_C_prev\r\n",
    "    A = np.zeros((m, n_H, n_W, n_C))\r\n",
    "    \r\n",
    "    for i in range(m):\r\n",
    "        for h in range(n_H):\r\n",
    "            vert_start = h * stride\r\n",
    "            vert_end = h * stride + f\r\n",
    "            for w in range(n_W):\r\n",
    "                horiz_start = w * stride\r\n",
    "                horiz_end = w * stride + f\r\n",
    "                for c in range(n_C):\r\n",
    "                    a_prev_slice = A_prev[i, vert_start:vert_end, horiz_start:horiz_end, c]\r\n",
    "                    if mode == \"max\":\r\n",
    "                        A[i, h, w, c] = np.max(a_prev_slice)\r\n",
    "                    elif mode == \"average\":\r\n",
    "                        A[i, h, w, c] = np.mean(a_prev_slice)\r\n",
    "    \r\n",
    "    cache = (A_prev, hparameters)\r\n",
    "    return A, cache"
   ],
   "outputs": [],
   "metadata": {}
  },
  {
   "cell_type": "code",
   "execution_count": 11,
   "source": [
    "def conv_backward(dZ, cache):\r\n",
    "    (A_prev, W, b, hparameters) = cache\r\n",
    "    (m, n_H_prev, n_W_prev, n_C_prev) = A_prev.shape\r\n",
    "    (f, f, n_C_prev, n_C) = W.shape\r\n",
    "    stride = hparameters[\"stride\"]\r\n",
    "    pad = hparameters[\"pad\"]\r\n",
    "    (m, n_H, n_W, n_C) = dZ.shape\r\n",
    "\r\n",
    "    dA_prev = np.zeros(A_prev.shape)\r\n",
    "    dW = np.zeros(W.shape)\r\n",
    "    db = np.zeros(b.shape)\r\n",
    "\r\n",
    "    A_prev_pad = zero_pad(A_prev, pad)\r\n",
    "    dA_prev_pad = zero_pad(dA_prev, pad)\r\n",
    "\r\n",
    "    for i in range(m):\r\n",
    "        a_prev_pad = A_prev_pad[i,:,:,:]\r\n",
    "        da_prev_pad = dA_prev_pad[i,:,:,:]\r\n",
    "\r\n",
    "        for h in range(n_H):\r\n",
    "            for w in range(n_W):\r\n",
    "                for c in range(n_C):\r\n",
    "                    vert_start = h * stride\r\n",
    "                    vert_end = h * stride + f\r\n",
    "                    horiz_start = w * stride\r\n",
    "                    horiz_end = w * stride + f\r\n",
    "                    a_slice = a_prev_pad[vert_start:vert_end, horiz_start:horiz_end,:]\r\n",
    "                    da_prev_pad[vert_start:vert_end, horiz_start:horiz_end, :] += W[:,:,:,c] * dZ[i,h,w,c]\r\n",
    "                    dW[:,:,:,c] += a_slice * dZ[i,h,w,c]\r\n",
    "                    db[:,:,:,c] += dZ[i,h,w,c]\r\n",
    "        \r\n",
    "        dA_prev[i,:,:,:] = da_prev_pad[pad:-pad, pad:-pad, :]\r\n",
    "\r\n",
    "    return dA_prev, dW, db"
   ],
   "outputs": [],
   "metadata": {}
  },
  {
   "cell_type": "code",
   "execution_count": 8,
   "source": [
    "def create_mask_from_window(x):\r\n",
    "    \"\"\"\r\n",
    "    mask -- Array of the same shape as window, contains a True at the position corresponding to the max entry of x\r\n",
    "    \"\"\"\r\n",
    "    mask = (x == np.max(x))\r\n",
    "    return mask"
   ],
   "outputs": [],
   "metadata": {}
  },
  {
   "cell_type": "code",
   "execution_count": 9,
   "source": [
    "def distribute_value(dz, shape):\r\n",
    "    \"\"\"\r\n",
    "    Distributes the input value in the matrix of dimension shape\r\n",
    "    \"\"\"\r\n",
    "    (n_H, n_W) = shape\r\n",
    "    average = dz / (n_H * n_W)\r\n",
    "    a = np.full((shape), average)\r\n",
    "    return a"
   ],
   "outputs": [],
   "metadata": {}
  },
  {
   "cell_type": "code",
   "execution_count": 10,
   "source": [
    "def pool_backward(dA, cache, mode = \"max\"):\r\n",
    "    (A_prev, hparameters) = cache\r\n",
    "    stride = hparameters[\"stride\"]\r\n",
    "    f = hparameters[\"f\"]\r\n",
    "    m, n_H_prev, n_W_prev, n_C_prev = A_prev.shape\r\n",
    "    m, n_H, n_W, n_C = dA.shape\r\n",
    "    dA_prev = np.zeros(A_prev.shape)\r\n",
    "\r\n",
    "    for i in range(m):\r\n",
    "        a_prev = A_prev[i,:,:,:]\r\n",
    "        for h in range(n_H):\r\n",
    "            for w in range(n_W):\r\n",
    "                for c in range(n_C):\r\n",
    "                    vert_start = h * stride\r\n",
    "                    vert_end = h * stride + f\r\n",
    "                    horiz_start = w * stride\r\n",
    "                    horiz_end = w * stride + f\r\n",
    "                    if mode == \"max\":\r\n",
    "                        a_prev_slice = a_prev[vert_start:vert_end, horiz_start:horiz_end, c]\r\n",
    "                        mask = create_mask_from_window(a_prev_slice)\r\n",
    "                        dA_prev[i, vert_start:vert_end, horiz_start:horiz_end, c] += mask * dA[i, h, w, c]\r\n",
    "                    elif mode == \"average\":\r\n",
    "                        da = da[i, h, w, c]\r\n",
    "                        shape = (f, f)\r\n",
    "                        dA_prev[i, vert_start:vert_end, horiz_start:horiz_end, c] += distribute_value(da, shape)\r\n",
    "    \r\n",
    "    return dA_prev"
   ],
   "outputs": [],
   "metadata": {}
  },
  {
   "cell_type": "code",
   "execution_count": null,
   "source": [],
   "outputs": [],
   "metadata": {}
  }
 ],
 "metadata": {
  "orig_nbformat": 4,
  "language_info": {
   "name": "python"
  }
 },
 "nbformat": 4,
 "nbformat_minor": 2
}