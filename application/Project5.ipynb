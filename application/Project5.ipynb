{
 "cells": [
  {
   "cell_type": "code",
   "execution_count": 88,
   "metadata": {},
   "outputs": [],
   "source": [
    "import tensorflow.compat.v1 as tf\r\n",
    "from tensorflow.python.framework import ops\r\n",
    "import pandas as pd\r\n",
    "import matplotlib.pyplot as plt\r\n",
    "import numpy as np\r\n",
    "from tf_utils import random_mini_batches, forward_propagation_for_predict\r\n",
    "\r\n",
    "%matplotlib inline\r\n",
    "tf.disable_v2_behavior()\r\n",
    "tf.reset_default_graph()"
   ]
  },
  {
   "cell_type": "code",
   "execution_count": 89,
   "metadata": {},
   "outputs": [],
   "source": [
    "data = pd.read_csv('../datasets/year_prediction.csv').to_numpy()"
   ]
  },
  {
   "cell_type": "code",
   "execution_count": 90,
   "metadata": {},
   "outputs": [],
   "source": [
    "X_train_orig = data[0:463715, 1:91].T\r\n",
    "Y_train = data[0:463715, 0].reshape(-1, 1).T\r\n",
    "X_test_orig = data[463715:, 1:91].T\r\n",
    "Y_test = data[463715:, 0].reshape(-1, 1).T"
   ]
  },
  {
   "cell_type": "code",
   "execution_count": 91,
   "metadata": {},
   "outputs": [
    {
     "data": {
      "image/png": "[encoded data removed]",
      "text/plain": [
       "<Figure size 432x288 with 1 Axes>"
      ]
     },
     "metadata": {
      "needs_background": "light"
     },
     "output_type": "display_data"
    }
   ],
   "source": [
    "attribute = 5\r\n",
    "plt.hist(X_train_orig[:, attribute])\r\n",
    "plt.show()"
   ]
  },
  {
   "cell_type": "code",
   "execution_count": 92,
   "metadata": {},
   "outputs": [],
   "source": [
    "# Normalize data\r\n",
    "means = np.mean(X_train_orig, axis=1)\r\n",
    "stds = np.std(X_train_orig, axis=1)\r\n",
    "X_train = np.zeros(X_train_orig.shape)\r\n",
    "X_test = np.zeros(X_test_orig.shape)\r\n",
    "\r\n",
    "for i in range(X_train_orig.shape[0]):\r\n",
    "   X_train[i, :] = (X_train_orig[i, :] - means[i]) / stds[i]\r\n",
    "   X_test[i:, ] = (X_test_orig[i, :] - means[i]) / stds[i]"
   ]
  },
  {
   "cell_type": "code",
   "execution_count": 93,
   "metadata": {},
   "outputs": [],
   "source": [
    "def create_placeholder(n_x, n_y):\r\n",
    "    X = tf.placeholder(tf.float32, [n_x, None])\r\n",
    "    Y = tf.placeholder(tf.float32, [n_y, None])\r\n",
    "    return X, Y"
   ]
  },
  {
   "cell_type": "code",
   "execution_count": 94,
   "metadata": {},
   "outputs": [],
   "source": [
    "def initialize_parameters():\r\n",
    "    W1 = tf.get_variable(\"W1\", [25, 90], initializer=tf.truncated_normal_initializer())\r\n",
    "    b1 = tf.get_variable(\"b1\", [25, 1], initializer=tf.zeros_initializer())\r\n",
    "    W2 = tf.get_variable(\"W2\", [12, 25], initializer=tf.truncated_normal_initializer())\r\n",
    "    b2 = tf.get_variable(\"b2\", [12, 1], initializer=tf.zeros_initializer())\r\n",
    "    W3 = tf.get_variable(\"W3\", [1, 12], initializer=tf.truncated_normal_initializer())\r\n",
    "    b3 = tf.get_variable(\"b3\", [1, 1], initializer=tf.zeros_initializer())\r\n",
    "    parameters = {\r\n",
    "        \"W1\": W1, \"b1\": b1, \"W2\": W2, \"b2\": b2, \"W3\": W3, \"b3\": b3\r\n",
    "    }\r\n",
    "    return parameters\r\n"
   ]
  },
  {
   "cell_type": "code",
   "execution_count": 95,
   "metadata": {},
   "outputs": [],
   "source": [
    "def forward_propagation(X, parameters):\r\n",
    "    W1 = parameters[\"W1\"]\r\n",
    "    b1 = parameters[\"b1\"]\r\n",
    "    W2 = parameters[\"W2\"]\r\n",
    "    b2 = parameters[\"b2\"]\r\n",
    "    W3 = parameters[\"W3\"]\r\n",
    "    b3 = parameters[\"b3\"]\r\n",
    "\r\n",
    "    Z1 = tf.add(tf.matmul(W1, X), b1)\r\n",
    "    A1 = tf.nn.relu(Z1)\r\n",
    "    Z2 = tf.add(tf.matmul(W2, A1), b2)\r\n",
    "    A2 = tf.nn.relu(Z2)\r\n",
    "    Z3 = tf.add(tf.matmul(W3, A2), b3)\r\n",
    "    return Z3"
   ]
  },
  {
   "cell_type": "code",
   "execution_count": 96,
   "metadata": {},
   "outputs": [],
   "source": [
    "def compute_cost(Z3, Y):\r\n",
    "    predictions = tf.transpose(Z3)\r\n",
    "    target = tf.transpose(Y)\r\n",
    "    cost = tf.reduce_mean(tf.square(target - predictions))\r\n",
    "    return cost"
   ]
  },
  {
   "cell_type": "code",
   "execution_count": 97,
   "metadata": {},
   "outputs": [],
   "source": [
    "def model(X_train, Y_train, X_test, Y_test, learning_rate=0.0001,\r\n",
    "        num_epochs=1500, minibatch_size=128, print_cost=True):\r\n",
    "    ops.reset_default_graph()\r\n",
    "    seed = 3\r\n",
    "    (n_x, _) = X_train.shape\r\n",
    "    n_y = Y_train.shape[0]\r\n",
    "    costs = []\r\n",
    "\r\n",
    "    X, Y = create_placeholder(n_x, n_y)\r\n",
    "    parameters = initialize_parameters()\r\n",
    "    Z3 = forward_propagation(X, parameters)\r\n",
    "    cost = compute_cost(Z3, Y)\r\n",
    "    optimizer = tf.train.AdamOptimizer(learning_rate=learning_rate).minimize(cost)\r\n",
    "    init = tf.global_variables_initializer()\r\n",
    "\r\n",
    "    with tf.Session() as sess:\r\n",
    "        sess.run(init)\r\n",
    "        for epoch in range(num_epochs):\r\n",
    "            epoch_cost = 0.\r\n",
    "            seed = seed + 1\r\n",
    "            minibatches = random_mini_batches(X_train, Y_train, minibatch_size, seed)\r\n",
    "            for minibatch in minibatches:\r\n",
    "                (minibatch_X, minibatch_Y) = minibatch\r\n",
    "                _, minibatch_cost = sess.run([optimizer, cost], feed_dict = {X: minibatch_X, Y: minibatch_Y})\r\n",
    "                epoch_cost += minibatch_cost / minibatch_size\r\n",
    "            if print_cost and epoch % 10 == 0:\r\n",
    "                print(\"Cost after epoch %i: %f\" %(epoch, epoch_cost))\r\n",
    "            if print_cost:\r\n",
    "                costs.append(epoch_cost)\r\n",
    "\r\n",
    "        plt.plot(np.squeeze(costs))\r\n",
    "        plt.ylabel('cost')\r\n",
    "        plt.xlabel('iterations (per fives)')\r\n",
    "        plt.title('Learning rate = ' + str(learning_rate))\r\n",
    "        plt.show()\r\n",
    "\r\n",
    "        parameters = sess.run(parameters)\r\n",
    "        RMSE = tf.reduce_mean(tf.square(Y - Z3))\r\n",
    "        print(\"Test mean squared error:\", RMSE.eval(feed_dict={X: X_test, Y: Y_test}))\r\n",
    "\r\n",
    "        return parameters\r\n"
   ]
  },
  {
   "cell_type": "code",
   "execution_count": 98,
   "metadata": {},
   "outputs": [
    {
     "name": "stdout",
     "output_type": "stream",
     "text": [
      "Cost after epoch 0: 1834.988663\n",
      "Cost after epoch 10: 140.209688\n",
      "Cost after epoch 20: 74.356053\n",
      "Cost after epoch 30: 48.360506\n",
      "Cost after epoch 40: 21.561956\n",
      "Cost after epoch 50: 3.358369\n",
      "Cost after epoch 60: 0.819301\n",
      "Cost after epoch 70: 0.362929\n",
      "Cost after epoch 80: 0.219942\n",
      "Cost after epoch 90: 0.160080\n"
     ]
    },
    {
     "data": {
      "image/png": "[encoded data removed]",
      "text/plain": [
       "<Figure size 432x288 with 1 Axes>"
      ]
     },
     "metadata": {
      "needs_background": "light"
     },
     "output_type": "display_data"
    },
    {
     "name": "stdout",
     "output_type": "stream",
     "text": [
      "Test mean squared error: 309.83636\n"
     ]
    }
   ],
   "source": [
    "parameters = model(X_train, Y_train, X_test, Y_test, learning_rate=0.01, num_epochs=100, minibatch_size=32768)"
   ]
  },
  {
   "cell_type": "code",
   "execution_count": 99,
   "metadata": {},
   "outputs": [],
   "source": [
    "def predict(X, parameters):\r\n",
    "    W1 = tf.convert_to_tensor(parameters[\"W1\"])\r\n",
    "    b1 = tf.convert_to_tensor(parameters[\"b1\"])\r\n",
    "    W2 = tf.convert_to_tensor(parameters[\"W2\"])\r\n",
    "    b2 = tf.convert_to_tensor(parameters[\"b2\"])\r\n",
    "    W3 = tf.convert_to_tensor(parameters[\"W3\"])\r\n",
    "    b3 = tf.convert_to_tensor(parameters[\"b3\"])\r\n",
    "    \r\n",
    "    params = {\"W1\": W1,\r\n",
    "              \"b1\": b1,\r\n",
    "              \"W2\": W2,\r\n",
    "              \"b2\": b2,\r\n",
    "              \"W3\": W3,\r\n",
    "              \"b3\": b3}\r\n",
    "    \r\n",
    "    x = tf.placeholder(\"float\", [90, 1])\r\n",
    "    \r\n",
    "    z3 = forward_propagation_for_predict(x, params)\r\n",
    "    \r\n",
    "    sess = tf.Session()\r\n",
    "    prediction = sess.run(z3, feed_dict = {x: X})\r\n",
    "        \r\n",
    "    return int(np.round(np.squeeze(prediction)))"
   ]
  },
  {
   "cell_type": "code",
   "execution_count": 100,
   "metadata": {},
   "outputs": [
    {
     "name": "stdout",
     "output_type": "stream",
     "text": [
      "Your algorithm predicts: y = 2000\n",
      "The actual y value: 2007\n"
     ]
    }
   ],
   "source": [
    "my_song_idx = np.random.randint(0, X_test.shape[1])\r\n",
    "my_song = X_test[:, my_song_idx].reshape(-1, 1)\r\n",
    "my_image_prediction = predict(my_song, parameters)\r\n",
    "print(\"Your algorithm predicts: y = \" + str(my_image_prediction))\r\n",
    "print(\"The actual y value: \" + str(int((np.squeeze(Y_test[:, my_song_idx])))))"
   ]
  },
  {
   "cell_type": "code",
   "execution_count": null,
   "metadata": {},
   "outputs": [],
   "source": []
  }
 ],
 "metadata": {
  "interpreter": {
   "hash": "5cd4e46eb321c110e78a67889a4e5233ca41376e0420f700ff9726dd105f28fe"
  },
  "kernelspec": {
   "display_name": "Python 3.7.9 64-bit ('tf': conda)",
   "name": "python3"
  },
  "language_info": {
   "name": "python",
   "version": ""
  },
  "orig_nbformat": 4
 },
 "nbformat": 4,
 "nbformat_minor": 2
}