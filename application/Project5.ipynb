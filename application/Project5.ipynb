{
 "cells": [
  {
   "cell_type": "code",
   "execution_count": 14,
   "source": [
    "import tensorflow.compat.v1 as tf\r\n",
    "from tensorflow.python.framework import ops\r\n",
    "import pandas as pd\r\n",
    "import matplotlib.pyplot as plt\r\n",
    "import numpy as np\r\n",
    "from tf_utils import random_mini_batches, forward_propagation_for_predict\r\n",
    "\r\n",
    "%matplotlib inline\r\n",
    "tf.disable_v2_behavior()\r\n",
    "tf.reset_default_graph()"
   ],
   "outputs": [],
   "metadata": {}
  },
  {
   "cell_type": "code",
   "execution_count": 15,
   "source": [
    "data = pd.read_csv('../datasets/year_prediction.csv').to_numpy()"
   ],
   "outputs": [],
   "metadata": {}
  },
  {
   "cell_type": "code",
   "execution_count": null,
   "source": [
    "X_train_orig = data[0:463715, 1:91].T\r\n",
    "Y_train = data[0:463715, 0].reshape(-1, 1).T\r\n",
    "X_test_orig = data[463715:, 1:91].T\r\n",
    "Y_test = data[463715:, 0].reshape(-1, 1).T"
   ],
   "outputs": [],
   "metadata": {}
  },
  {
   "cell_type": "code",
   "execution_count": null,
   "source": [
    "attribute = 5\r\n",
    "plt.hist(X_train_orig[:, attribute])\r\n",
    "plt.show()"
   ],
   "outputs": [
    {
     "output_type": "display_data",
     "data": {
      "text/plain": [
       "<Figure size 432x288 with 1 Axes>"
      ],
      "image/png": "[encoded data removed]"
     },
     "metadata": {
      "needs_background": "light"
     }
    }
   ],
   "metadata": {}
  },
  {
   "cell_type": "code",
   "execution_count": null,
   "source": [
    "# Normalize data\r\n",
    "means = np.mean(X_train_orig, axis=1)\r\n",
    "stds = np.std(X_train_orig, axis=1)\r\n",
    "X_train = np.zeros(X_train_orig.shape)\r\n",
    "X_test = np.zeros(X_test_orig.shape)\r\n",
    "\r\n",
    "for i in range(X_train_orig.shape[0]):\r\n",
    "   X_train[i, :] = (X_train_orig[i, :] - means[i]) / stds[i]\r\n",
    "   X_test[i:, ] = (X_test_orig[i, :] - means[i]) / stds[i]"
   ],
   "outputs": [],
   "metadata": {}
  },
  {
   "cell_type": "code",
   "execution_count": null,
   "source": [
    "def create_placeholder(n_x, n_y):\r\n",
    "    X = tf.placeholder(tf.float32, [n_x, None])\r\n",
    "    Y = tf.placeholder(tf.float32, [n_y, None])\r\n",
    "    return X, Y"
   ],
   "outputs": [],
   "metadata": {}
  },
  {
   "cell_type": "code",
   "execution_count": null,
   "source": [
    "def initialize_parameters(lambd):\r\n",
    "    L2 = tf.keras.regularizers.l2(lambd)\r\n",
    "    W1 = tf.get_variable(\"W1\", [25, 90], initializer=tf.initializers.he_normal(), regularizer=L2)\r\n",
    "    b1 = tf.get_variable(\"b1\", [25, 1], initializer=tf.zeros_initializer())\r\n",
    "    W2 = tf.get_variable(\"W2\", [12, 25], initializer=tf.initializers.he_normal(), regularizer=L2)\r\n",
    "    b2 = tf.get_variable(\"b2\", [12, 1], initializer=tf.zeros_initializer())\r\n",
    "    W3 = tf.get_variable(\"W3\", [1, 12], initializer=tf.initializers.he_normal(), regularizer=L2)\r\n",
    "    b3 = tf.get_variable(\"b3\", [1, 1], initializer=tf.zeros_initializer())\r\n",
    "    parameters = {\r\n",
    "        \"W1\": W1, \"b1\": b1, \"W2\": W2, \"b2\": b2, \"W3\": W3, \"b3\": b3\r\n",
    "    }\r\n",
    "    return parameters\r\n"
   ],
   "outputs": [],
   "metadata": {}
  },
  {
   "cell_type": "code",
   "execution_count": null,
   "source": [
    "def forward_propagation(X, parameters):\r\n",
    "    W1 = parameters[\"W1\"]\r\n",
    "    b1 = parameters[\"b1\"]\r\n",
    "    W2 = parameters[\"W2\"]\r\n",
    "    b2 = parameters[\"b2\"]\r\n",
    "    W3 = parameters[\"W3\"]\r\n",
    "    b3 = parameters[\"b3\"]\r\n",
    "\r\n",
    "    Z1 = tf.add(tf.matmul(W1, X), b1)\r\n",
    "    A1 = tf.nn.relu(Z1)\r\n",
    "    Z2 = tf.add(tf.matmul(W2, A1), b2)\r\n",
    "    A2 = tf.nn.relu(Z2)\r\n",
    "    Z3 = tf.add(tf.matmul(W3, A2), b3)\r\n",
    "    return Z3"
   ],
   "outputs": [],
   "metadata": {}
  },
  {
   "cell_type": "code",
   "execution_count": null,
   "source": [
    "def compute_cost(Z3, Y, lambd):\r\n",
    "    predictions = tf.transpose(Z3)\r\n",
    "    target = tf.transpose(Y)\r\n",
    "    cost = tf.reduce_mean(tf.square(target - predictions))\r\n",
    "    reg_losses = tf.get_collection(tf.GraphKeys.REGULARIZATION_LOSSES)\r\n",
    "    reg_cost = cost + lambd * sum(reg_losses)\r\n",
    "    return reg_cost"
   ],
   "outputs": [],
   "metadata": {}
  },
  {
   "cell_type": "code",
   "execution_count": null,
   "source": [
    "def model(X_train, Y_train, X_test, Y_test, learning_rate=0.0001, lambd=0.01,\r\n",
    "        num_epochs=1500, minibatch_size=128, print_cost=True):\r\n",
    "    ops.reset_default_graph()\r\n",
    "    seed = 3\r\n",
    "    (n_x, _) = X_train.shape\r\n",
    "    n_y = Y_train.shape[0]\r\n",
    "    costs = []\r\n",
    "\r\n",
    "    X, Y = create_placeholder(n_x, n_y)\r\n",
    "    parameters = initialize_parameters(lambd)\r\n",
    "    Z3 = forward_propagation(X, parameters)\r\n",
    "    cost = compute_cost(Z3, Y, lambd)\r\n",
    "    optimizer = tf.train.AdamOptimizer(learning_rate=learning_rate).minimize(cost)\r\n",
    "    init = tf.global_variables_initializer()\r\n",
    "\r\n",
    "    with tf.Session() as sess:\r\n",
    "        sess.run(init)\r\n",
    "        for epoch in range(num_epochs):\r\n",
    "            epoch_cost = 0.\r\n",
    "            seed = seed + 1\r\n",
    "            minibatches = random_mini_batches(X_train, Y_train, minibatch_size, seed)\r\n",
    "            for minibatch in minibatches:\r\n",
    "                (minibatch_X, minibatch_Y) = minibatch\r\n",
    "                _, minibatch_cost = sess.run([optimizer, cost], feed_dict = {X: minibatch_X, Y: minibatch_Y})\r\n",
    "                epoch_cost += minibatch_cost / minibatch_size\r\n",
    "            if print_cost and epoch % 10 == 0:\r\n",
    "                print(\"Cost after epoch %i: %f\" %(epoch, epoch_cost))\r\n",
    "            if print_cost:\r\n",
    "                costs.append(epoch_cost)\r\n",
    "\r\n",
    "        plt.plot(np.squeeze(costs))\r\n",
    "        plt.ylabel('cost')\r\n",
    "        plt.xlabel('iterations (per fives)')\r\n",
    "        plt.title('Learning rate = ' + str(learning_rate))\r\n",
    "        plt.show()\r\n",
    "\r\n",
    "        parameters = sess.run(parameters)\r\n",
    "        RMSE = tf.reduce_mean(tf.square(Y - Z3))\r\n",
    "        print(\"Test mean squared error:\", RMSE.eval(feed_dict={X: X_test, Y: Y_test}))\r\n",
    "\r\n",
    "        return parameters\r\n"
   ],
   "outputs": [],
   "metadata": {}
  },
  {
   "cell_type": "code",
   "execution_count": null,
   "source": [
    "parameters = model(X_train, Y_train, X_test, Y_test, learning_rate=0.01, num_epochs=100, minibatch_size=32768)"
   ],
   "outputs": [
    {
     "output_type": "error",
     "ename": "AttributeError",
     "evalue": "module 'tensorflow.python.keras.api._v1.keras.regularizers' has no attribute 'L2'",
     "traceback": [
      "\u001b[1;31m---------------------------------------------------------------------------\u001b[0m",
      "\u001b[1;31mAttributeError\u001b[0m                            Traceback (most recent call last)",
      "\u001b[1;32m<ipython-input-13-5264823b5207>\u001b[0m in \u001b[0;36m<module>\u001b[1;34m\u001b[0m\n\u001b[1;32m----> 1\u001b[1;33m \u001b[0mparameters\u001b[0m \u001b[1;33m=\u001b[0m \u001b[0mmodel\u001b[0m\u001b[1;33m(\u001b[0m\u001b[0mX_train\u001b[0m\u001b[1;33m,\u001b[0m \u001b[0mY_train\u001b[0m\u001b[1;33m,\u001b[0m \u001b[0mX_test\u001b[0m\u001b[1;33m,\u001b[0m \u001b[0mY_test\u001b[0m\u001b[1;33m,\u001b[0m \u001b[0mlearning_rate\u001b[0m\u001b[1;33m=\u001b[0m\u001b[1;36m0.01\u001b[0m\u001b[1;33m,\u001b[0m \u001b[0mnum_epochs\u001b[0m\u001b[1;33m=\u001b[0m\u001b[1;36m100\u001b[0m\u001b[1;33m,\u001b[0m \u001b[0mminibatch_size\u001b[0m\u001b[1;33m=\u001b[0m\u001b[1;36m32768\u001b[0m\u001b[1;33m)\u001b[0m\u001b[1;33m\u001b[0m\u001b[1;33m\u001b[0m\u001b[0m\n\u001b[0m",
      "\u001b[1;32m<ipython-input-12-2c5e58d89a90>\u001b[0m in \u001b[0;36mmodel\u001b[1;34m(X_train, Y_train, X_test, Y_test, learning_rate, num_epochs, minibatch_size, print_cost)\u001b[0m\n\u001b[0;32m      8\u001b[0m \u001b[1;33m\u001b[0m\u001b[0m\n\u001b[0;32m      9\u001b[0m     \u001b[0mX\u001b[0m\u001b[1;33m,\u001b[0m \u001b[0mY\u001b[0m \u001b[1;33m=\u001b[0m \u001b[0mcreate_placeholder\u001b[0m\u001b[1;33m(\u001b[0m\u001b[0mn_x\u001b[0m\u001b[1;33m,\u001b[0m \u001b[0mn_y\u001b[0m\u001b[1;33m)\u001b[0m\u001b[1;33m\u001b[0m\u001b[1;33m\u001b[0m\u001b[0m\n\u001b[1;32m---> 10\u001b[1;33m     \u001b[0mparameters\u001b[0m \u001b[1;33m=\u001b[0m \u001b[0minitialize_parameters\u001b[0m\u001b[1;33m(\u001b[0m\u001b[1;33m)\u001b[0m\u001b[1;33m\u001b[0m\u001b[1;33m\u001b[0m\u001b[0m\n\u001b[0m\u001b[0;32m     11\u001b[0m     \u001b[0mZ3\u001b[0m \u001b[1;33m=\u001b[0m \u001b[0mforward_propagation\u001b[0m\u001b[1;33m(\u001b[0m\u001b[0mX\u001b[0m\u001b[1;33m,\u001b[0m \u001b[0mparameters\u001b[0m\u001b[1;33m)\u001b[0m\u001b[1;33m\u001b[0m\u001b[1;33m\u001b[0m\u001b[0m\n\u001b[0;32m     12\u001b[0m     \u001b[0mcost\u001b[0m \u001b[1;33m=\u001b[0m \u001b[0mcompute_cost\u001b[0m\u001b[1;33m(\u001b[0m\u001b[0mZ3\u001b[0m\u001b[1;33m,\u001b[0m \u001b[0mY\u001b[0m\u001b[1;33m)\u001b[0m\u001b[1;33m\u001b[0m\u001b[1;33m\u001b[0m\u001b[0m\n",
      "\u001b[1;32m<ipython-input-9-fa0e2bcaa91d>\u001b[0m in \u001b[0;36minitialize_parameters\u001b[1;34m()\u001b[0m\n\u001b[0;32m      1\u001b[0m \u001b[1;32mdef\u001b[0m \u001b[0minitialize_parameters\u001b[0m\u001b[1;33m(\u001b[0m\u001b[1;33m)\u001b[0m\u001b[1;33m:\u001b[0m\u001b[1;33m\u001b[0m\u001b[1;33m\u001b[0m\u001b[0m\n\u001b[1;32m----> 2\u001b[1;33m     \u001b[0mL2\u001b[0m \u001b[1;33m=\u001b[0m \u001b[0mtf\u001b[0m\u001b[1;33m.\u001b[0m\u001b[0mkeras\u001b[0m\u001b[1;33m.\u001b[0m\u001b[0mregularizers\u001b[0m\u001b[1;33m.\u001b[0m\u001b[0mL2\u001b[0m\u001b[1;33m(\u001b[0m\u001b[1;36m0.01\u001b[0m\u001b[1;33m)\u001b[0m\u001b[1;33m\u001b[0m\u001b[1;33m\u001b[0m\u001b[0m\n\u001b[0m\u001b[0;32m      3\u001b[0m     \u001b[0mW1\u001b[0m \u001b[1;33m=\u001b[0m \u001b[0mtf\u001b[0m\u001b[1;33m.\u001b[0m\u001b[0mget_variable\u001b[0m\u001b[1;33m(\u001b[0m\u001b[1;34m\"W1\"\u001b[0m\u001b[1;33m,\u001b[0m \u001b[1;33m[\u001b[0m\u001b[1;36m25\u001b[0m\u001b[1;33m,\u001b[0m \u001b[1;36m90\u001b[0m\u001b[1;33m]\u001b[0m\u001b[1;33m,\u001b[0m \u001b[0minitializer\u001b[0m\u001b[1;33m=\u001b[0m\u001b[0mtf\u001b[0m\u001b[1;33m.\u001b[0m\u001b[0minitializers\u001b[0m\u001b[1;33m.\u001b[0m\u001b[0mhe_normal\u001b[0m\u001b[1;33m(\u001b[0m\u001b[1;33m)\u001b[0m\u001b[1;33m,\u001b[0m \u001b[0mregularizer\u001b[0m\u001b[1;33m=\u001b[0m\u001b[0mL2\u001b[0m\u001b[1;33m)\u001b[0m\u001b[1;33m\u001b[0m\u001b[1;33m\u001b[0m\u001b[0m\n\u001b[0;32m      4\u001b[0m     \u001b[0mb1\u001b[0m \u001b[1;33m=\u001b[0m \u001b[0mtf\u001b[0m\u001b[1;33m.\u001b[0m\u001b[0mget_variable\u001b[0m\u001b[1;33m(\u001b[0m\u001b[1;34m\"b1\"\u001b[0m\u001b[1;33m,\u001b[0m \u001b[1;33m[\u001b[0m\u001b[1;36m25\u001b[0m\u001b[1;33m,\u001b[0m \u001b[1;36m1\u001b[0m\u001b[1;33m]\u001b[0m\u001b[1;33m,\u001b[0m \u001b[0minitializer\u001b[0m\u001b[1;33m=\u001b[0m\u001b[0mtf\u001b[0m\u001b[1;33m.\u001b[0m\u001b[0mzeros_initializer\u001b[0m\u001b[1;33m(\u001b[0m\u001b[1;33m)\u001b[0m\u001b[1;33m)\u001b[0m\u001b[1;33m\u001b[0m\u001b[1;33m\u001b[0m\u001b[0m\n\u001b[0;32m      5\u001b[0m     \u001b[0mW2\u001b[0m \u001b[1;33m=\u001b[0m \u001b[0mtf\u001b[0m\u001b[1;33m.\u001b[0m\u001b[0mget_variable\u001b[0m\u001b[1;33m(\u001b[0m\u001b[1;34m\"W2\"\u001b[0m\u001b[1;33m,\u001b[0m \u001b[1;33m[\u001b[0m\u001b[1;36m12\u001b[0m\u001b[1;33m,\u001b[0m \u001b[1;36m25\u001b[0m\u001b[1;33m]\u001b[0m\u001b[1;33m,\u001b[0m \u001b[0minitializer\u001b[0m\u001b[1;33m=\u001b[0m\u001b[0mtf\u001b[0m\u001b[1;33m.\u001b[0m\u001b[0minitializers\u001b[0m\u001b[1;33m.\u001b[0m\u001b[0mhe_normal\u001b[0m\u001b[1;33m(\u001b[0m\u001b[1;33m)\u001b[0m\u001b[1;33m,\u001b[0m \u001b[0mregularizer\u001b[0m\u001b[1;33m=\u001b[0m\u001b[0mL2\u001b[0m\u001b[1;33m)\u001b[0m\u001b[1;33m\u001b[0m\u001b[1;33m\u001b[0m\u001b[0m\n",
      "\u001b[1;32m~\\.conda\\envs\\tf\\lib\\site-packages\\tensorflow_core\\python\\util\\module_wrapper.py\u001b[0m in \u001b[0;36m__getattr__\u001b[1;34m(self, name)\u001b[0m\n\u001b[0;32m    190\u001b[0m   \u001b[1;32mdef\u001b[0m \u001b[0m__getattr__\u001b[0m\u001b[1;33m(\u001b[0m\u001b[0mself\u001b[0m\u001b[1;33m,\u001b[0m \u001b[0mname\u001b[0m\u001b[1;33m)\u001b[0m\u001b[1;33m:\u001b[0m\u001b[1;33m\u001b[0m\u001b[1;33m\u001b[0m\u001b[0m\n\u001b[0;32m    191\u001b[0m     \u001b[1;32mtry\u001b[0m\u001b[1;33m:\u001b[0m\u001b[1;33m\u001b[0m\u001b[1;33m\u001b[0m\u001b[0m\n\u001b[1;32m--> 192\u001b[1;33m       \u001b[0mattr\u001b[0m \u001b[1;33m=\u001b[0m \u001b[0mgetattr\u001b[0m\u001b[1;33m(\u001b[0m\u001b[0mself\u001b[0m\u001b[1;33m.\u001b[0m\u001b[0m_tfmw_wrapped_module\u001b[0m\u001b[1;33m,\u001b[0m \u001b[0mname\u001b[0m\u001b[1;33m)\u001b[0m\u001b[1;33m\u001b[0m\u001b[1;33m\u001b[0m\u001b[0m\n\u001b[0m\u001b[0;32m    193\u001b[0m     \u001b[1;32mexcept\u001b[0m \u001b[0mAttributeError\u001b[0m\u001b[1;33m:\u001b[0m\u001b[1;33m\u001b[0m\u001b[1;33m\u001b[0m\u001b[0m\n\u001b[0;32m    194\u001b[0m       \u001b[1;32mif\u001b[0m \u001b[1;32mnot\u001b[0m \u001b[0mself\u001b[0m\u001b[1;33m.\u001b[0m\u001b[0m_tfmw_public_apis\u001b[0m\u001b[1;33m:\u001b[0m\u001b[1;33m\u001b[0m\u001b[1;33m\u001b[0m\u001b[0m\n",
      "\u001b[1;31mAttributeError\u001b[0m: module 'tensorflow.python.keras.api._v1.keras.regularizers' has no attribute 'L2'"
     ]
    }
   ],
   "metadata": {}
  },
  {
   "cell_type": "code",
   "execution_count": null,
   "source": [
    "def predict(X, parameters):\r\n",
    "    W1 = tf.convert_to_tensor(parameters[\"W1\"])\r\n",
    "    b1 = tf.convert_to_tensor(parameters[\"b1\"])\r\n",
    "    W2 = tf.convert_to_tensor(parameters[\"W2\"])\r\n",
    "    b2 = tf.convert_to_tensor(parameters[\"b2\"])\r\n",
    "    W3 = tf.convert_to_tensor(parameters[\"W3\"])\r\n",
    "    b3 = tf.convert_to_tensor(parameters[\"b3\"])\r\n",
    "    \r\n",
    "    params = {\"W1\": W1,\r\n",
    "              \"b1\": b1,\r\n",
    "              \"W2\": W2,\r\n",
    "              \"b2\": b2,\r\n",
    "              \"W3\": W3,\r\n",
    "              \"b3\": b3}\r\n",
    "    \r\n",
    "    x = tf.placeholder(\"float\", [90, 1])\r\n",
    "    \r\n",
    "    z3 = forward_propagation_for_predict(x, params)\r\n",
    "    \r\n",
    "    sess = tf.Session()\r\n",
    "    prediction = sess.run(z3, feed_dict = {x: X})\r\n",
    "        \r\n",
    "    return int(np.round(np.squeeze(prediction)))"
   ],
   "outputs": [],
   "metadata": {}
  },
  {
   "cell_type": "code",
   "execution_count": null,
   "source": [
    "my_song_idx = np.random.randint(0, X_test.shape[1])\r\n",
    "my_song = X_test[:, my_song_idx].reshape(-1, 1)\r\n",
    "my_image_prediction = predict(my_song, parameters)\r\n",
    "print(\"Your algorithm predicts: y = \" + str(my_image_prediction))\r\n",
    "print(\"The actual y value: \" + str(int((np.squeeze(Y_test[:, my_song_idx])))))"
   ],
   "outputs": [
    {
     "output_type": "stream",
     "name": "stdout",
     "text": [
      "Your algorithm predicts: y = 2000\n",
      "The actual y value: 2007\n"
     ]
    }
   ],
   "metadata": {}
  },
  {
   "cell_type": "code",
   "execution_count": null,
   "source": [],
   "outputs": [],
   "metadata": {}
  }
 ],
 "metadata": {
  "interpreter": {
   "hash": "5cd4e46eb321c110e78a67889a4e5233ca41376e0420f700ff9726dd105f28fe"
  },
  "kernelspec": {
   "display_name": "Python 3.7.9 64-bit ('tf': conda)",
   "name": "python3"
  },
  "language_info": {
   "name": "python",
   "version": ""
  },
  "orig_nbformat": 4
 },
 "nbformat": 4,
 "nbformat_minor": 2
}