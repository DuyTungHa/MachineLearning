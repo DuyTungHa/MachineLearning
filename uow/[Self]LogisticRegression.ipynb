{
 "cells": [
  {
   "cell_type": "code",
   "execution_count": 1,
   "metadata": {},
   "outputs": [],
   "source": [
    "# Import relevant packages\n",
    "import pandas as pd\n",
    "import numpy as np\n",
    "import itertools\n",
    "from matplotlib import pyplot as plt"
   ]
  },
  {
   "cell_type": "code",
   "execution_count": 2,
   "metadata": {},
   "outputs": [],
   "source": [
    "# Load original dataset\n",
    "SUSY = pd.read_csv(\"SUSY.csv\", sep=',', header=None)"
   ]
  },
  {
   "cell_type": "code",
   "execution_count": 3,
   "metadata": {},
   "outputs": [],
   "source": [
    "# Split data into training set and validation set\n",
    "def stratifedSampling(target):\n",
    "    suppersymIndices = np.array([i for i, val in enumerate(target) if val == 1])\n",
    "    backgroundIndices = np.array([i for i, val in enumerate(target) if val == 0])\n",
    "    np.random.shuffle(suppersymIndices); np.random.shuffle(backgroundIndices)\n",
    "\n",
    "    trainIndices = np.concatenate(\n",
    "        (suppersymIndices[:int(round(len(suppersymIndices) * 2 / 3))], backgroundIndices[:int(round(len(backgroundIndices) * 2 / 3))]), axis=None)\n",
    "    validationIndices = np.concatenate(\n",
    "        (suppersymIndices[int(round(len(suppersymIndices) * 2 / 3)):], backgroundIndices[int(round(len(backgroundIndices) * 2 / 3)):]), axis=None)\n",
    "    np.random.shuffle(trainIndices); np.random.shuffle(validationIndices)\n",
    "    \n",
    "    return (trainIndices, validationIndices)"
   ]
  },
  {
   "cell_type": "code",
   "execution_count": 4,
   "metadata": {},
   "outputs": [
    {
     "name": "stdout",
     "output_type": "stream",
     "text": [
      "Transformed mean:\n",
      "0     1.000000e+00\n",
      "1     1.131650e-16\n",
      "2    -2.241056e-17\n",
      "3     5.398051e-17\n",
      "4    -9.424530e-17\n",
      "5    -1.702857e-17\n",
      "6    -3.001184e-17\n",
      "7     1.622442e-15\n",
      "8     4.227501e-17\n",
      "9     2.837479e-14\n",
      "10   -1.001936e-17\n",
      "11    1.015888e-16\n",
      "12   -6.176550e-16\n",
      "13   -4.265611e-16\n",
      "14    4.426324e-15\n",
      "15   -1.377544e-16\n",
      "16   -2.015959e-16\n",
      "17    2.985900e-14\n",
      "18    4.252254e-14\n",
      "dtype: float64. Transformed std:\n",
      "0     0.0\n",
      "1     1.0\n",
      "2     1.0\n",
      "3     1.0\n",
      "4     1.0\n",
      "5     1.0\n",
      "6     1.0\n",
      "7     1.0\n",
      "8     1.0\n",
      "9     1.0\n",
      "10    1.0\n",
      "11    1.0\n",
      "12    1.0\n",
      "13    1.0\n",
      "14    1.0\n",
      "15    1.0\n",
      "16    1.0\n",
      "17    1.0\n",
      "18    1.0\n",
      "dtype: float64\n"
     ]
    }
   ],
   "source": [
    "# Create Attributes set and Target Variable Set\n",
    "X = SUSY.iloc[:, 1:]\n",
    "Y = SUSY.iloc[:, 0].astype('int').astype('category')\n",
    "\n",
    "# Normalization\n",
    "X_tr = pd.concat([pd.DataFrame(np.ones(X.shape[0])), (X - X.mean()) / X.std()], axis=1, sort=False) \n",
    "print('Transformed mean:\\n', X_tr.mean(), '. Transformed std:\\n', X_tr.std(), sep='')\n",
    "\n",
    "# Separate data into training set, test set, and valdiation set\n",
    "X_test = X_tr.iloc[X_tr.shape[0] - 500000:, :].to_numpy()\n",
    "Y_test = np.atleast_2d(Y.iloc[Y.shape[0] - 500000:].to_numpy()).T\n",
    "\n",
    "trainIndices, validationIndices = (stratifedSampling(Y.iloc[:Y.shape[0] - 500000].to_numpy()))\n",
    "X_train = X_tr.loc[trainIndices].to_numpy()\n",
    "Y_train = np.atleast_2d(Y.loc[trainIndices].to_numpy()).T\n",
    "X_val = X_tr.loc[validationIndices].to_numpy()\n",
    "Y_val = np.atleast_2d(Y.loc[validationIndices].to_numpy()).T"
   ]
  },
  {
   "cell_type": "code",
   "execution_count": 5,
   "metadata": {},
   "outputs": [],
   "source": [
    "def sigmoid(z):\n",
    "    return 1 / (1 + np.exp(-z))\n",
    "\n",
    "# Calculate a Regularized Cost and Gradients given a theta\n",
    "def costFunctionReg(theta, attrs, target, lambda_value):\n",
    "    m = target.shape[0]\n",
    "    grad = np.zeros((theta.shape[0], 1))\n",
    "\n",
    "    J = (1 / m) * np.sum(-target * np.log(sigmoid(np.matmul(attrs, theta))) - (1 - target) * np.log(1 - sigmoid(np.matmul(attrs, theta))))\\\n",
    "        + (lambda_value / (2 * m)) * np.sum(theta[1:theta.shape[0], :] * 2)\n",
    "\n",
    "    grad[0, :] = (1 / m) * np.sum((sigmoid(np.matmul(attrs, theta)) - target) * np.atleast_2d(attrs[:, 0]).T)\n",
    "    grad[1:theta.shape[0], :] = ((1 / m) * np.matmul(attrs[:, 1 : attrs.shape[1]].T, (sigmoid(np.matmul(attrs, theta)) - target)))\\\n",
    "        + ((lambda_value / m) * theta[1:theta.shape[0], :])\n",
    "\n",
    "    return (J, grad)\n",
    "\n",
    "# Predict a signal with a threshold of 0.5\n",
    "def predict(theta, attrs):\n",
    "    return (sigmoid(np.matmul(attrs, theta)) >= 0.5).astype(int)\n",
    "\n",
    "# Calculate F Score of the model predictions\n",
    "def calcFScore(predictions, target):\n",
    "    TP = np.sum(np.logical_and(predictions, target))\n",
    "    FP = np.sum(predictions > target)\n",
    "    FN = np.sum(predictions < target)\n",
    "    precision = TP/ (TP + FP)\n",
    "    recall = TP / (TP + FN)\n",
    "    return (2 * precision * recall) / (precision + recall)"
   ]
  },
  {
   "cell_type": "code",
   "execution_count": 6,
   "metadata": {},
   "outputs": [
    {
     "name": "stderr",
     "output_type": "stream",
     "text": [
      "<ipython-input-5-b884a35c315a>:9: RuntimeWarning: divide by zero encountered in log\n",
      "  J = (1 / m) * np.sum(-target * np.log(sigmoid(np.matmul(attrs, theta))) - (1 - target) * np.log(1 - sigmoid(np.matmul(attrs, theta))))\\\n",
      "<ipython-input-5-b884a35c315a>:9: RuntimeWarning: invalid value encountered in multiply\n",
      "  J = (1 / m) * np.sum(-target * np.log(sigmoid(np.matmul(attrs, theta))) - (1 - target) * np.log(1 - sigmoid(np.matmul(attrs, theta))))\\\n"
     ]
    },
    {
     "data": {
      "image/png": "[encoded data removed]",
      "text/plain": [
       "<Figure size 432x288 with 1 Axes>"
      ]
     },
     "metadata": {
      "needs_background": "light"
     },
     "output_type": "display_data"
    },
    {
     "name": "stdout",
     "output_type": "stream",
     "text": [
      "Best Regularization Parameter Lambda:  3\n",
      "Best Gradient Descent Step Size:  1\n",
      "Best Validation F Score:  0.7427706751559716\n"
     ]
    }
   ],
   "source": [
    "# Train and Fine-tune Model\n",
    "lambda_values = list(range(1, 10, 2))\n",
    "alphas = [1, 0.5, 0.05]\n",
    "\n",
    "best_val_score = 0\n",
    "best_lambda = 0\n",
    "best_alpha = 0\n",
    "\n",
    "for lambda_value, alpha in itertools.product(lambda_values, alphas):\n",
    "    costs = []\n",
    "    theta = np.zeros((X_train.shape[1], 1))\n",
    "    \n",
    "    # Train model\n",
    "    for i in range(300):\n",
    "        cost, grad = costFunctionReg(theta, X_train, Y_train, lambda_value)\n",
    "        theta = theta - alpha * grad\n",
    "        costs.append(cost)\n",
    "    \n",
    "    # Evaluate against Validation Data\n",
    "    prediction_val = predict(theta, X_val)\n",
    "    val_score = calcFScore(prediction_val, Y_val)\n",
    "\n",
    "    if val_score > best_val_score:\n",
    "        best_val_score = val_score\n",
    "        best_lambda = lambda_value\n",
    "        best_alpha = alpha\n",
    "        best_theta = theta\n",
    "        best_costs = costs.copy()\n",
    "\n",
    "# Plot the cost graph as a function of number of iterations\n",
    "plt.plot(best_costs)\n",
    "plt.show()\n",
    "\n",
    "# Report best hyperparameters and Score\n",
    "print('Best Regularization Parameter Lambda: ', best_lambda)\n",
    "print('Best Gradient Descent Step Size: ', best_alpha)\n",
    "print('Best Validation F Score: ', best_val_score)"
   ]
  },
  {
   "cell_type": "code",
   "execution_count": 7,
   "metadata": {},
   "outputs": [
    {
     "name": "stdout",
     "output_type": "stream",
     "text": [
      "F-score of model performance on test set:  0.7439133420890919\n"
     ]
    }
   ],
   "source": [
    "# Evaluation with Test Set and Report Final Result\n",
    "predictions = predict(best_theta, X_test)\n",
    "print('F-score of model performance on test set: ', calcFScore(predictions, Y_test))"
   ]
  },
  {
   "cell_type": "code",
   "execution_count": null,
   "metadata": {},
   "outputs": [],
   "source": []
  }
 ],
 "metadata": {
  "kernelspec": {
   "display_name": "Python 3",
   "language": "python",
   "name": "python3"
  },
  "language_info": {
   "codemirror_mode": {
    "name": "ipython",
    "version": 3
   },
   "file_extension": ".py",
   "mimetype": "text/x-python",
   "name": "python",
   "nbconvert_exporter": "python",
   "pygments_lexer": "ipython3",
   "version": "3.8.3"
  }
 },
 "nbformat": 4,
 "nbformat_minor": 2
}
