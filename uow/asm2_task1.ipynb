{
 "metadata": {
  "language_info": {
   "codemirror_mode": {
    "name": "ipython",
    "version": 3
   },
   "file_extension": ".py",
   "mimetype": "text/x-python",
   "name": "python",
   "nbconvert_exporter": "python",
   "pygments_lexer": "ipython3",
   "version": "3.8.3-final"
  },
  "orig_nbformat": 2,
  "kernelspec": {
   "name": "Python 3.8.3 64-bit (conda)",
   "display_name": "Python 3.8.3 64-bit (conda)",
   "metadata": {
    "interpreter": {
     "hash": "b3ba2566441a7c06988d0923437866b63cedc61552a5af99d1f4fb67d367b25f"
    }
   }
  }
 },
 "nbformat": 4,
 "nbformat_minor": 2,
 "cells": [
  {
   "source": [
    "## Assignment 2 - Task 1\n",
    "\n",
    "**Dataset**: Yoochoose Clicks Dataset (yoochoose-clicks.dat)\n",
    "This dataset is a set of click events collected from a website of an online retailer. Each record in the dataset has four (4) fields:\n",
    "\n",
    " - Session ID - the id of the session. In one session there are one or\n",
    "   many clicks.\n",
    " - Timestamp - the time when the click occurred. \n",
    " - Item ID – the unique identifier of item. \n",
    " - Category – the category of the item.\n",
    "\n",
    "**Objective:** compute the average time that users stay on items in each category."
   ],
   "cell_type": "markdown",
   "metadata": {}
  },
  {
   "cell_type": "code",
   "execution_count": 1,
   "metadata": {},
   "outputs": [],
   "source": [
    "# Used to get spark to work on Jupyter Notebook\n",
    "import findspark\n",
    "findspark.init()"
   ]
  },
  {
   "cell_type": "code",
   "execution_count": 2,
   "metadata": {},
   "outputs": [
    {
     "output_type": "execute_result",
     "data": {
      "text/plain": [
       "<pyspark.sql.session.SparkSession at 0x1b64d60d100>"
      ],
      "text/html": "\n            <div>\n                <p><b>SparkSession - in-memory</b></p>\n                \n        <div>\n            <p><b>SparkContext</b></p>\n\n            <p><a href=\"http://DESKTOP-U34UP1M:4040\">Spark UI</a></p>\n\n            <dl>\n              <dt>Version</dt>\n                <dd><code>v3.0.1</code></dd>\n              <dt>Master</dt>\n                <dd><code>local[*]</code></dd>\n              <dt>AppName</dt>\n                <dd><code>CSCI316-ass2</code></dd>\n            </dl>\n        </div>\n        \n            </div>\n        "
     },
     "metadata": {},
     "execution_count": 2
    }
   ],
   "source": [
    "# Initialize spark session\n",
    "from pyspark.sql import SparkSession\n",
    "spark = SparkSession.builder.appName(\"CSCI316-ass2\") \\\n",
    "    .config(\"spark-master\", \"local\") \\\n",
    "    .getOrCreate()\n",
    "spark"
   ]
  },
  {
   "cell_type": "code",
   "execution_count": 3,
   "metadata": {},
   "outputs": [],
   "source": [
    "# Import necessary modules from the pyspark library\n",
    "from pyspark.sql.types import *\n",
    "from pyspark.sql.functions import col, when, length, lead, avg\n",
    "from pyspark.sql.window import Window"
   ]
  },
  {
   "cell_type": "code",
   "execution_count": 4,
   "metadata": {},
   "outputs": [
    {
     "output_type": "stream",
     "name": "stdout",
     "text": [
      "root\n |-- SESSION_ID: string (nullable = true)\n |-- TIMESTAMP: timestamp (nullable = true)\n |-- ITEM_ID: string (nullable = true)\n |-- CATEGORY: string (nullable = true)\n\n"
     ]
    }
   ],
   "source": [
    "# Define the schema with correct types for the data\n",
    "schema = StructType([\n",
    "    StructField(\"SESSION_ID\", StringType(), True),\n",
    "    StructField(\"TIMESTAMP\", TimestampType(), True),\n",
    "    StructField(\"ITEM_ID\", StringType(), True),\n",
    "    StructField(\"CATEGORY\", StringType(), True)\n",
    "])\n",
    "\n",
    "# Indicate timestamp format\n",
    "timestampFormat = \"yyyy-MM-dd'T'HH:mm:ss.SSS'Z'\"\n",
    "\n",
    "# Load the data into a Spark DataFrame and print the schema\n",
    "df_CD = spark.read.csv(\"yoochoose-clicks.dat\", schema=schema, timestampFormat=timestampFormat)\n",
    "df_CD.printSchema()"
   ]
  },
  {
   "cell_type": "code",
   "execution_count": 5,
   "metadata": {},
   "outputs": [
    {
     "output_type": "stream",
     "name": "stdout",
     "text": [
      "+----------+--------------------+---------+-----------+\n|SESSION_ID|           TIMESTAMP|  ITEM_ID|TR_CATEGORY|\n+----------+--------------------+---------+-----------+\n|         1|2014-04-07 10:51:...|214536502|          0|\n|         1|2014-04-07 10:54:...|214536500|          0|\n|         1|2014-04-07 10:54:...|214536506|          0|\n|         1|2014-04-07 10:57:...|214577561|          0|\n|         2|2014-04-07 13:56:...|214662742|          0|\n+----------+--------------------+---------+-----------+\nonly showing top 5 rows\n\n"
     ]
    }
   ],
   "source": [
    "# Transform DataFrame into 15 item categories: S, 0, 1 to 12, and B (for any 8-10 digits number)\n",
    "tr_CD = df_CD.withColumn(\"TR_CATEGORY\", when(length(col(\"CATEGORY\")) > 2, \"B\").otherwise(col(\"CATEGORY\"))).drop(col(\"CATEGORY\"))\n",
    "tr_CD.show(5)"
   ]
  },
  {
   "cell_type": "code",
   "execution_count": 6,
   "metadata": {},
   "outputs": [
    {
     "output_type": "stream",
     "name": "stdout",
     "text": [
      "+----------+---------+-----------+---------+\n|SESSION_ID|  ITEM_ID|TR_CATEGORY|DIFF_TIME|\n+----------+---------+-----------+---------+\n|  10000108|214853850|          S|      626|\n|  10000172|214853702|          S|       56|\n|  10000172|214853767|          S|       73|\n|  10000172|214853730|          S|       38|\n|  10000172|214853430|          S|       41|\n+----------+---------+-----------+---------+\nonly showing top 5 rows\n\n"
     ]
    }
   ],
   "source": [
    "# Define a window to partition the data into sessions ordered by timestamp\n",
    "stay_window = Window().partitionBy(col(\"SESSION_ID\")).orderBy(col(\"TIMESTAMP\"))\n",
    "\n",
    "# Add a new column which contains the timstamp when the use clicks on the next item\n",
    "# Remove all rows where there is not next item\n",
    "lead_CD = tr_CD.withColumn(\"END_TIME\", lead(col(\"TIMESTAMP\")).over(stay_window)).where(col(\"END_TIME\").isNotNull())\n",
    "\n",
    "# Computer the difference between a user clicking on this item and the next item within a session\n",
    "diff_CD = lead_CD.withColumn(\"DIFF_TIME\", (col(\"END_TIME\").cast(\"long\") - col(\"TIMESTAMP\").cast(\"long\"))).drop(col(\"TIMESTAMP\")).drop(col(\"END_TIME\"))\n",
    "\n",
    "diff_CD.show(5)"
   ]
  },
  {
   "cell_type": "code",
   "execution_count": 7,
   "metadata": {},
   "outputs": [
    {
     "output_type": "stream",
     "name": "stdout",
     "text": [
      "+-----------+------------------+\n|TR_CATEGORY|          AVG_TIME|\n+-----------+------------------+\n|          3|114.66762465216003|\n|         11|135.79717136730991|\n|          0|144.46260407551037|\n|          S|146.07340013335786|\n|          8|158.76721158337224|\n|         10|163.00827163233603|\n|          4| 163.9375423244749|\n|          1|  165.261387111114|\n|          B|171.32561433195997|\n|          9| 173.8529683045447|\n|          7|174.97307903473637|\n|          2|176.01387986540195|\n|          6|195.67335439413253|\n|          5|196.24146278988405|\n|         12|231.82737799834575|\n+-----------+------------------+\n\n"
     ]
    }
   ],
   "source": [
    "# Compute the average time that users stay on items in each category\n",
    "# Also sort result by the average time\n",
    "diff_CD.groupBy(\"TR_CATEGORY\").agg(avg(\"DIFF_TIME\").alias(\"AVG_TIME\")).sort(\"AVG_TIME\").show(15)"
   ]
  },
  {
   "cell_type": "code",
   "execution_count": null,
   "metadata": {},
   "outputs": [],
   "source": []
  }
 ]
}