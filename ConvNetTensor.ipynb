{
 "cells": [
  {
   "cell_type": "code",
   "execution_count": 34,
   "source": [
    "import math\r\n",
    "import numpy as np\r\n",
    "import h5py\r\n",
    "import matplotlib.pyplot as plt\r\n",
    "import scipy\r\n",
    "from PIL import Image\r\n",
    "import imageio\r\n",
    "import tensorflow.compat.v1 as tf\r\n",
    "from tensorflow.python.framework import ops\r\n",
    "from cnn_utils import *\r\n",
    "\r\n",
    "%matplotlib inline\r\n",
    "np.random.seed(1)"
   ],
   "outputs": [],
   "metadata": {}
  },
  {
   "cell_type": "code",
   "execution_count": 35,
   "source": [
    "# Disable tensorflow v2 and reset default graph\r\n",
    "tf.disable_v2_behavior()\r\n",
    "tf.reset_default_graph()"
   ],
   "outputs": [],
   "metadata": {}
  },
  {
   "cell_type": "code",
   "execution_count": 36,
   "source": [
    "X_train_orig, Y_train_orig, X_test_orig, Y_test_orig, classes = load_dataset()"
   ],
   "outputs": [],
   "metadata": {}
  },
  {
   "cell_type": "code",
   "execution_count": 37,
   "source": [
    "index = 6\r\n",
    "plt.imshow(X_train_orig[index])\r\n",
    "print(\"y = \" + str(np.squeeze(Y_train_orig[:, index])))"
   ],
   "outputs": [
    {
     "output_type": "stream",
     "name": "stdout",
     "text": [
      "y = 2\n"
     ]
    },
    {
     "output_type": "display_data",
     "data": {
      "text/plain": [
       "<Figure size 432x288 with 1 Axes>"
      ],
      "image/png": "[encoded data removed]"
     },
     "metadata": {
      "needs_background": "light"
     }
    }
   ],
   "metadata": {}
  },
  {
   "cell_type": "code",
   "execution_count": 38,
   "source": [
    "X_train = X_train_orig / 255.\r\n",
    "X_test = X_test_orig / 255.\r\n",
    "Y_train = convert_to_one_hot(Y_train_orig, 6).T\r\n",
    "Y_test = convert_to_one_hot(Y_test_orig, 6).T"
   ],
   "outputs": [],
   "metadata": {}
  },
  {
   "cell_type": "code",
   "execution_count": 39,
   "source": [
    "def create_placeholders(n_H0, n_W0, n_C0, n_y):\r\n",
    "    X = tf.placeholder(tf.float32, (None, n_H0, n_W0, n_C0))\r\n",
    "    Y = tf.placeholder(tf.float32, (None, n_y))\r\n",
    "    return X, Y"
   ],
   "outputs": [],
   "metadata": {}
  },
  {
   "cell_type": "code",
   "execution_count": 40,
   "source": [
    "def initialize_parameters():\r\n",
    "    tf.set_random_seed(1)\r\n",
    "    W1 = tf.get_variable(\"W1\", [4, 4, 3, 8], initializer=tf.truncated_normal_initializer(stddev=0.1))\r\n",
    "    W2 = tf.get_variable(\"W2\", [2, 2, 8, 16], initializer=tf.truncated_normal_initializer(stddev=0.1))\r\n",
    "    parameters = {\r\n",
    "        \"W1\": W1, \"W2\": W2\r\n",
    "    }\r\n",
    "    return parameters"
   ],
   "outputs": [],
   "metadata": {}
  },
  {
   "cell_type": "code",
   "execution_count": 41,
   "source": [
    "def forward_propagation(X, parameters):\r\n",
    "    W1 = parameters['W1']\r\n",
    "    W2 = parameters['W2']\r\n",
    "    Z1 = tf.nn.conv2d(X, W1, strides=[1, 1, 1, 1], padding='SAME')\r\n",
    "    A1 = tf.nn.relu(Z1)\r\n",
    "    P1 = tf.nn.max_pool(A1, ksize=[1, 8, 8, 1], strides=[1, 8, 8, 1], padding='SAME')\r\n",
    "    Z2 = tf.nn.conv2d(P1, W2, strides=[1, 1, 1, 1], padding='SAME')\r\n",
    "    A2 = tf.nn.relu(Z2)\r\n",
    "    P2 = tf.nn.max_pool(A2, ksize=[1, 4, 4, 1], strides=[1, 4, 4, 1], padding='SAME')\r\n",
    "    F = tf.layers.flatten(P2)\r\n",
    "    Z3 = tf.layers.dense(inputs=F, units=6 , activation=None)\r\n",
    "    return Z3\r\n"
   ],
   "outputs": [],
   "metadata": {}
  },
  {
   "cell_type": "code",
   "execution_count": 42,
   "source": [
    "def compute_cost(Z3, Y):\r\n",
    "    cost = tf.reduce_mean(tf.nn.softmax_cross_entropy_with_logits(logits=Z3, labels=Y))\r\n",
    "    return cost"
   ],
   "outputs": [],
   "metadata": {}
  },
  {
   "cell_type": "code",
   "execution_count": 43,
   "source": [
    "def model(X_train, Y_train, X_test, Y_test, learning_rate=0.009,\r\n",
    "        num_epochs=100, minibatch_size=64, print_cost=True):\r\n",
    "    ops.reset_default_graph()\r\n",
    "    tf.set_random_seed(1)\r\n",
    "    seed = 3\r\n",
    "    (m, n_H0, n_W0, n_C0) = X_train.shape\r\n",
    "    n_y = Y_train.shape[1]\r\n",
    "    costs = []\r\n",
    "    \r\n",
    "    X, Y = create_placeholders(n_H0, n_W0, n_C0, n_y)\r\n",
    "    parameters = initialize_parameters()\r\n",
    "    Z3 = forward_propagation(X, parameters)\r\n",
    "    cost = compute_cost(Z3, Y)\r\n",
    "    optimizer = tf.train.AdamOptimizer(learning_rate=learning_rate).minimize(loss=cost)\r\n",
    "    init = tf.global_variables_initializer()\r\n",
    "\r\n",
    "    with tf.Session() as sess:\r\n",
    "        sess.run(init)\r\n",
    "        for epoch in range(num_epochs):\r\n",
    "            minibatch_cost = 0.\r\n",
    "            num_minibatches = int(m / minibatch_size)\r\n",
    "            seed = seed + 1\r\n",
    "            minibatches = random_mini_batches(X_train, Y_train, minibatch_size, seed)\r\n",
    "            for minibatch in minibatches:\r\n",
    "                (minibatch_X, minibatch_Y) = minibatch\r\n",
    "                _, tempcost = sess.run(fetches=[optimizer, cost], feed_dict={X: minibatch_X, Y: minibatch_Y})\r\n",
    "                minibatch_cost += tempcost / num_minibatches\r\n",
    "\r\n",
    "            if print_cost and epoch % 5 == 0:\r\n",
    "                print(\"Cost after epoch %i: %f\" % (epoch, minibatch_cost))\r\n",
    "            if print_cost and epoch % 1 == 0:\r\n",
    "                costs.append(minibatch_cost)\r\n",
    "        \r\n",
    "        plt.plot(np.squeeze(costs))\r\n",
    "        plt.ylabel('cost')\r\n",
    "        plt.title('iterations (per tens)')\r\n",
    "        plt.title(\"Learning rate =\" + str(learning_rate))\r\n",
    "        plt.show()\r\n",
    "\r\n",
    "        predict_op = tf.argmax(Z3, 1)\r\n",
    "        correct_prediction = tf.equal(predict_op, tf.argmax(Y, 1))\r\n",
    "\r\n",
    "        accuracy = tf.reduce_mean(tf.cast(correct_prediction, 'float'))\r\n",
    "        train_accuracy = accuracy.eval({X: X_train, Y: Y_train})\r\n",
    "        test_accuracy = accuracy.eval({X: X_test, Y: Y_test})\r\n",
    "        print(\"Train Accuracy:\", train_accuracy)\r\n",
    "        print(\"Test Accuracy:\", test_accuracy)\r\n",
    "\r\n",
    "    return train_accuracy, test_accuracy, parameters"
   ],
   "outputs": [],
   "metadata": {}
  },
  {
   "cell_type": "code",
   "execution_count": 44,
   "source": [
    "_, _, parameters = model(X_train, Y_train, X_test, Y_test)"
   ],
   "outputs": [
    {
     "output_type": "stream",
     "name": "stdout",
     "text": [
      "WARNING:tensorflow:From <ipython-input-41-6e8cace7a7fc>:10: flatten (from tensorflow.python.layers.core) is deprecated and will be removed in a future version.\n",
      "Instructions for updating:\n",
      "Use keras.layers.Flatten instead.\n",
      "WARNING:tensorflow:From <ipython-input-42-2e2eff1f0146>:2: softmax_cross_entropy_with_logits (from tensorflow.python.ops.nn_ops) is deprecated and will be removed in a future version.\n",
      "Instructions for updating:\n",
      "\n",
      "Future major versions of TensorFlow will allow gradients to flow\n",
      "into the labels input on backprop by default.\n",
      "\n",
      "See `tf.nn.softmax_cross_entropy_with_logits_v2`.\n",
      "\n",
      "Cost after epoch 0: 1.905962\n",
      "Cost after epoch 5: 1.344159\n",
      "Cost after epoch 10: 0.926890\n",
      "Cost after epoch 15: 0.768662\n",
      "Cost after epoch 20: 0.710830\n",
      "Cost after epoch 25: 0.630928\n",
      "Cost after epoch 30: 0.585870\n",
      "Cost after epoch 35: 0.561010\n",
      "Cost after epoch 40: 0.532321\n",
      "Cost after epoch 45: 0.524823\n",
      "Cost after epoch 50: 0.473464\n",
      "Cost after epoch 55: 0.460194\n",
      "Cost after epoch 60: 0.445127\n",
      "Cost after epoch 65: 0.469598\n",
      "Cost after epoch 70: 0.418692\n",
      "Cost after epoch 75: 0.398497\n",
      "Cost after epoch 80: 0.384030\n",
      "Cost after epoch 85: 0.373588\n",
      "Cost after epoch 90: 0.360609\n",
      "Cost after epoch 95: 0.366199\n"
     ]
    },
    {
     "output_type": "display_data",
     "data": {
      "text/plain": [
       "<Figure size 432x288 with 1 Axes>"
      ],
      "image/png": "[encoded data removed]"
     },
     "metadata": {
      "needs_background": "light"
     }
    },
    {
     "output_type": "stream",
     "name": "stdout",
     "text": [
      "Train Accuracy: 0.88148147\n",
      "Test Accuracy: 0.825\n"
     ]
    }
   ],
   "metadata": {}
  }
 ],
 "metadata": {
  "orig_nbformat": 4,
  "language_info": {
   "name": "python",
   "version": "3.7.9",
   "mimetype": "text/x-python",
   "codemirror_mode": {
    "name": "ipython",
    "version": 3
   },
   "pygments_lexer": "ipython3",
   "nbconvert_exporter": "python",
   "file_extension": ".py"
  },
  "kernelspec": {
   "name": "python3",
   "display_name": "Python 3.7.9 64-bit ('tf': conda)"
  },
  "interpreter": {
   "hash": "5cd4e46eb321c110e78a67889a4e5233ca41376e0420f700ff9726dd105f28fe"
  }
 },
 "nbformat": 4,
 "nbformat_minor": 2
}