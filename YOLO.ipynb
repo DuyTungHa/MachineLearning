{
 "cells": [
  {
   "cell_type": "code",
   "execution_count": 1,
   "source": [
    "import argparse\r\n",
    "import os\r\n",
    "import matplotlib.pyplot as plt\r\n",
    "from matplotlib.pyplot import imshow\r\n",
    "import imageio\r\n",
    "import scipy.misc\r\n",
    "import numpy as np\r\n",
    "import pandas as pd\r\n",
    "import PIL \r\n",
    "import tensorflow as tf\r\n",
    "from keras import backend as K\r\n",
    "from keras.layers import Input, Lambda, Conv2D\r\n",
    "from keras.models import load_model, Model\r\n",
    "from yolo_utils import read_classes, read_anchors, generate_colors, preprocess_image, draw_boxes, scale_boxes\r\n",
    "from yad2k.models.keras_yolo import yolo_head, yolo_boxes_to_corners, preprocess_true_boxes, yolo_loss, yolo_body\r\n",
    "\r\n",
    "%matplotlib inline"
   ],
   "outputs": [
    {
     "output_type": "stream",
     "name": "stdout",
     "text": [
      "WARNING:tensorflow:From C:\\Users\\Duy Tung\\.conda\\envs\\tf\\lib\\site-packages\\tensorflow_core\\python\\compat\\v2_compat.py:88: disable_resource_variables (from tensorflow.python.ops.variable_scope) is deprecated and will be removed in a future version.\n",
      "Instructions for updating:\n",
      "non-resource variables are not supported in the long term\n"
     ]
    },
    {
     "output_type": "stream",
     "name": "stderr",
     "text": [
      "Using TensorFlow backend.\n"
     ]
    }
   ],
   "metadata": {}
  },
  {
   "cell_type": "code",
   "execution_count": 2,
   "source": [
    "def yolo_filter_boxes(box_confidence, boxes, box_class_probs, threshold = .6):\r\n",
    "    \"\"\"\r\n",
    "    Filters YOLO boxes by thresholding on object and class confidence.\r\n",
    "    Arguments:\r\n",
    "    box_confidence -- tensor of shape (19, 19, 5, 1)\r\n",
    "    boxes -- tensor of shape (19, 19, 5, 4)\r\n",
    "    box_class_probs -- tensor of shape (19, 19, 5, 80)\r\n",
    "    threshold -- real value, if [highest class probability score < threshold], then get rid of the corresponding box\r\n",
    "    Returns:\r\n",
    "    scores -- tensor of shape (None,), containing the class probability score for selected boxes\r\n",
    "    boxes -- tensor of shape (None, 4), containing (b_x, b_y, b_h, b_w) coordinates of the selected boxes\r\n",
    "    classes -- tensor of shape (None, ), containing the index of the class detected by the selected boxes\r\n",
    "    Note: None because we don't know the exact number of selected boxes. \r\n",
    "    \"\"\"\r\n",
    "    box_scores = box_confidence * box_class_probs\r\n",
    "    box_classes - K.argmax(box_scores, axis=-1)\r\n",
    "    box_class_scores = K.max(box_scores, axis=-1)\r\n",
    "    filtering_mask = box_class_scores >= threshold\r\n",
    "    scores = tf.boolean_mask(box_class_scores, filtering_mask)\r\n",
    "    boxes = tf.boolean_mask(boxes, filtering_mask)\r\n",
    "    classes = tf.boolean_mask(box_classes, filtering_mask)\r\n",
    "    return scores, boxes, classes"
   ],
   "outputs": [],
   "metadata": {}
  },
  {
   "cell_type": "code",
   "execution_count": 3,
   "source": [
    "def iou(box1, box2):\r\n",
    "    (box1_x1, box1_y1, box1_x2, box1_y2) = box1\r\n",
    "    (box2_x1, box2_y1, box2_x2, box2_y2) = box2\r\n",
    "    \r\n",
    "    xi1 = max(box1_x1, box2_x1)\r\n",
    "    yi1 = max(box1_y1, box2_y1)\r\n",
    "    xi2 = min(box1_x2, box2_x2)\r\n",
    "    yi2 = min(box1_y2, box2_y2)\r\n",
    "    inter_width = max(xi2 - xi1, 0)\r\n",
    "    inter_height = max(yi2 - yi1, 0)\r\n",
    "    inter_area = inter_width * inter_height\r\n",
    "\r\n",
    "    box1_area = (box1_x2 - box1_x1) * (box1_y2 - box1_y1)\r\n",
    "    box2_area = (box2_x2 - box2_x1) * (box2_y2 - box2_y1)\r\n",
    "    union_area = box1_area + box2_area - inter_area\r\n",
    "\r\n",
    "    iou = inter_area / union_area\r\n",
    "    return iou"
   ],
   "outputs": [],
   "metadata": {}
  },
  {
   "cell_type": "code",
   "execution_count": 4,
   "source": [
    "def yolo_non_max_suppression(scores, boxes, classes, max_boxes=10, iou_threshold = 0.5):\r\n",
    "    \"\"\"\r\n",
    "    Applies Non-max suppression (NMS) to set of boxes\r\n",
    "    Arguments:\r\n",
    "    scores -- tensor of shape (None,), output of yolo_filter_boxes()\r\n",
    "    boxes -- tensor of shape (None, 4), output of yolo_filter_boxes() that have been scaled to the image size\r\n",
    "    classes -- tensor of shape (None,), output of yolo_filter_boxes() \r\n",
    "    max_boxes -- integer, maximum number of predicted boxes\r\n",
    "    iou_threshold -- real value, \"itersection over union\" threshold used for NMS filtering\r\n",
    "    Returns:\r\n",
    "    scores -- tensor of shape (,None), predicted score for each box\r\n",
    "    boxes -- tensor of shape (4,None), predicted box coordinates\r\n",
    "    classes -- tensor of shape (, None), predicted class for each box\r\n",
    "    \"\"\"\r\n",
    "    max_boxes_tensors = K.variable(max_boxes, dtype='int32')\r\n",
    "    K.get_session().run(tf.variables_initializer([max_boxes_tensors]))\r\n",
    "    nms_indices = tf.image.non_max_suppression(boxes, scores, max_boxes, iou_threshold)\r\n",
    "    scores = K.gather(scores, nms_indices)\r\n",
    "    boxes = K.gather(boxes, nms_indices)\r\n",
    "    classes = K.gather(classes, nms_indices)\r\n",
    "    return scores, boxes, classes"
   ],
   "outputs": [],
   "metadata": {}
  },
  {
   "cell_type": "code",
   "execution_count": 5,
   "source": [
    "def yolo_eval(yolo_outputs, image_shape=(720., 1280.), max_boxes=10, score_threshold=.6, iou_threshold=.5):\r\n",
    "    box_confidence, box_xy, box_wh, box_class_probs = yolo_outputs\r\n",
    "    boxes = yolo_boxes_to_corners(box_xy, box_wh)\r\n",
    "    scores, boxes, classes = yolo_filter_boxes(box_confidence, boxes, box_class_probs, score_threshold)\r\n",
    "    boxes = scale_boxes(boxes, image_shape)\r\n",
    "    scores, boxes, classes = yolo_non_max_suppression(scores, boxes, classes, max_boxes, iou_threshold)\r\n",
    "    return scores, boxes, classes"
   ],
   "outputs": [],
   "metadata": {}
  },
  {
   "cell_type": "code",
   "execution_count": null,
   "source": [
    "sess = K.get_session()\r\n",
    "class_names = read_classes(\"model_data/coco_classes.txt\")\r\n",
    "anchors = read_anchors(\"model_data/yolo_anchors.txt\")\r\n",
    "image_shape = (720., 1280.)\r\n",
    "yolo_model = load_model(\"model_data/yolo.h5\")\r\n",
    "yolo_model.summary()\r\n",
    "yolo_outputs = yolo_head(yolo_model.output, anchors, len(class_names))\r\n",
    "scores, boxes, classes = yolo_eval(yolo_outputs, image_shape)"
   ],
   "outputs": [],
   "metadata": {}
  },
  {
   "cell_type": "code",
   "execution_count": 2,
   "source": [
    "def predict(sess, image_file):\r\n",
    "    image, image_data = preprocess_image(\"images/\" + image_file, model_image_size=(608,608))\r\n",
    "    out_scores, out_boxes, out_classes = sess.run(fetches=[scores, boxes, classes],\r\n",
    "                                                    feed_dict = {yolo_model.input: image_data, K.learning_phase(): 0})\r\n",
    "    print('Found {} boxes for {}'.format(len(out_boxes), image_file))\r\n",
    "    colors = generate_colors(class_names)\r\n",
    "    draw_boxes(image, out_scores, out_boxes, out_classes, class_names, colors)\r\n",
    "    image.save(os.path.join(\"out\", image_file), quality=90)\r\n",
    "    output_image = imageio.imread(os.path.join(\"out\", image_file))\r\n",
    "    imshow(output_image)\r\n",
    "    return out_scores, out_boxes, out_classes"
   ],
   "outputs": [],
   "metadata": {}
  },
  {
   "cell_type": "code",
   "execution_count": null,
   "source": [
    "out_scores, out_boxes, out_classes = predict(sess, \"test.jpg\")"
   ],
   "outputs": [],
   "metadata": {}
  }
 ],
 "metadata": {
  "orig_nbformat": 4,
  "language_info": {
   "name": "python",
   "version": "3.7.9",
   "mimetype": "text/x-python",
   "codemirror_mode": {
    "name": "ipython",
    "version": 3
   },
   "pygments_lexer": "ipython3",
   "nbconvert_exporter": "python",
   "file_extension": ".py"
  },
  "kernelspec": {
   "name": "python3",
   "display_name": "Python 3.7.9 64-bit ('tf': conda)"
  },
  "interpreter": {
   "hash": "5cd4e46eb321c110e78a67889a4e5233ca41376e0420f700ff9726dd105f28fe"
  }
 },
 "nbformat": 4,
 "nbformat_minor": 2
}